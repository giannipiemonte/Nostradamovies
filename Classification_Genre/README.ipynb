{
 "cells": [
  {
   "cell_type": "markdown",
   "metadata": {
    "_cell_guid": "507f8479-d0dd-05fd-9f49-2d2046c3456b"
   },
   "source": [
    "In this dataset we have a multilabel classification problem - predicting genre (of which a movie can be of many genres) from its poster\n",
    "\n",
    "However, more than the, we effectively have **two** different datasets- one being the full dataset of movie information + links from the CSV file, and the other being the images of the posters we have been provided.\n",
    "\n",
    "In this notebook we will look at\n",
    "\n",
    " - **Basic Label Analysis** (Total Movies, Total Genres, Average Score by Genre, Number of Movies per Genre)- both for the full and sample datasets\n",
    "   \n",
    " - **Basic Image Analysis** (Sample Images, Size of Images, Average RGB Value by Genre)\n",
    "\n",
    "(Small Note- I am something of a novice at pandas + using ipynb  - this is actually my first ipynb. Hence much of this code has been heavily based on online guides and previous EDAs, particularly [this][1] and [this][2] )\n",
    "\n",
    "Version 1- June 11th, 2017 (errors may still be present, has not been extensively tested)\n",
    "\n",
    "\n",
    "#Basic Label Analysis of Full Dataset\n",
    "First, we shall analyze the full dataset as defined by the CSV\n",
    "\n",
    "\n",
    "  [1]: https://www.kaggle.com/philschmidt/cervix-eda-model-selection\n",
    "  [2]: https://pythonspot.com/en/matplotlib-bar-chart/"
   ]
  },
  {
   "cell_type": "markdown",
   "metadata": {
    "_cell_guid": "22fab228-7165-703f-7ac8-31ff4ee91334"
   },
   "source": [
    "import numpy as np \n",
    "import pandas as pd \n",
    "from scipy import misc\n",
    "import matplotlib.pyplot as plt\n",
    "\n",
    "movies = pd.read_csv(\"input/MovieGenre.csv\",encoding=\"ISO-8859-1\")\n",
    "\n",
    "#Print the label categories we are working with\n",
    "print(movies.columns)\n",
    "\n",
    "\n",
    "#Print the total amount of movies in the dataset\n",
    "print(\"Total Number of Movies is: \" + str(len(movies.index)))\n",
    "\n",
    "#We will count the number of movies with a specific genre\n",
    "genrelist = []\n",
    "length = len(movies)\n",
    "for n in range(0,length):\n",
    "    genres = str(movies.loc[n][\"Genre\"])\n",
    "    genres = genres.split(\"|\")\n",
    "    genrelist.extend(genres)\n",
    "    \n",
    "#We will also display number of Genres     \n",
    "unique_genres = list(set(genrelist))\n",
    "print(\"Total Number of Genres is: \" + str(len(unique_genres)))"
   ]
  },
  {
   "cell_type": "markdown",
   "metadata": {
    "_cell_guid": "8be8fdbe-d5f0-0b38-e809-252d4f3f24d1"
   },
   "source": [
    "#Print amount of movies with specific genre\n",
    "countlist = []\n",
    "k=0\n",
    "for genre in unique_genres:\n",
    "    ct = genrelist.count(genre)\n",
    "    countlist.append(ct)\n",
    "    print(genre + \" \" + str(ct))\n",
    "\n",
    "#Create Bar Graph of values\n",
    "y_pos = np.arange(len(unique_genres))\n",
    "plt.bar(y_pos,countlist,align='center',alpha=0.5)\n",
    "plt.xticks(y_pos,unique_genres,rotation='vertical')\n",
    "plt.ylabel(\"Number of Movies\")\n",
    "plt.title(\"Number of Movies by Genre\")\n",
    "plt.show()"
   ]
  },
  {
   "cell_type": "markdown",
   "metadata": {
    "_cell_guid": "0e636fb6-b636-ab45-1ea5-22759e403600"
   },
   "source": [
    "# We will also find the average score by genre\n",
    "avglist = []\n",
    "for genre in unique_genres:\n",
    "    movies_of_genre = movies[movies[\"Genre\"].str.contains(genre,na=False)]\n",
    "    avg = movies_of_genre[\"IMDB Score\"].mean()\n",
    "    avglist.append(avg)\n",
    "    print(genre + \" {0:.2f}\".format(avg))\n",
    "\n",
    "plt.bar(y_pos,avglist,align='center',alpha=0.5)\n",
    "plt.xticks(y_pos,unique_genres,rotation='vertical')\n",
    "plt.ylabel(\"IMDB Score\")\n",
    "plt.title(\"IMDB Score by Genre\")\n",
    "plt.show()"
   ]
  },
  {
   "cell_type": "markdown",
   "metadata": {
    "_cell_guid": "78df22d4-553f-2688-17b4-1377c831392b"
   },
   "source": [
    "# Label Analysis of Sample Dataset\n",
    "\n",
    "Next, we will analyze the sample dataset"
   ]
  },
  {
   "cell_type": "markdown",
   "metadata": {
    "_cell_guid": "7f007681-8975-c7c4-a6df-449283af5a30"
   },
   "source": [
    "path = 'input/SampleMoviePosters'\n",
    "from glob import glob\n",
    "all_posters = sorted(glob(path + '/*'))\n",
    "all_posters = pd.DataFrame({'path' : all_posters})\n",
    "all_posters['filetype'] = all_posters.apply(lambda row: row.path.split(\".\")[-1],axis=1)\n",
    "all_posters['ID'] = all_posters.apply(lambda row: row.path.split(\"/\")[-1],axis=1)\n",
    "all_posters['ID'] = (all_posters['ID'].apply(lambda row: row.split(\".\")[0])).apply(np.int64)\n",
    "all_posters.head()"
   ]
  },
  {
   "cell_type": "markdown",
   "metadata": {
    "_cell_guid": "30c66889-5a97-f31e-850f-c6295b0f6465"
   },
   "source": [
    "poster_ID = all_posters[\"ID\"].values.tolist()\n",
    "movies[\"imdbId\"] = movies[\"imdbId\"].astype(np.int64)\n",
    "\n",
    "movies = movies[movies['imdbId'].isin(all_posters[\"ID\"])]\n",
    "\n",
    "#Count unique genres again\n",
    "genrelist = []\n",
    "for n in range(0,length):\n",
    "    try:\n",
    "        genres = str(movies.loc[n][\"Genre\"])\n",
    "        genres = genres.split(\"|\")\n",
    "        genrelist.extend(genres)\n",
    "    except:\n",
    "        q=1\n",
    "        \n",
    "unique_genres = list(set(genrelist))\n",
    "num_genres = len(unique_genres)\n",
    "print(\"Total Number of Movies is : {}\".format(len(movies)))\n",
    "print(\"Total Number of Unique Genres is : {}\".format(num_genres))"
   ]
  },
  {
   "cell_type": "markdown",
   "metadata": {
    "_cell_guid": "f24b5d97-7a77-049b-3dcb-99d9e001cf50"
   },
   "source": [
    "#Print amount of movies with specific genre\n",
    "countlist = []\n",
    "k=0\n",
    "for genre in unique_genres:\n",
    "    ct = genrelist.count(genre)\n",
    "    countlist.append(ct)\n",
    "    print(genre + \" \" + str(ct))\n",
    "\n",
    "#Create Bar Graph of values\n",
    "y_pos = np.arange(len(unique_genres))\n",
    "plt.bar(y_pos,countlist,align='center',alpha=0.5)\n",
    "plt.xticks(y_pos,unique_genres,rotation='vertical')\n",
    "plt.ylabel(\"Number of Movies\")\n",
    "plt.title(\"Number of Movies by Genre\")\n",
    "plt.show()"
   ]
  },
  {
   "cell_type": "markdown",
   "metadata": {
    "_cell_guid": "1e6db80d-caf3-b115-2be5-dc72144727ed"
   },
   "source": [
    "# We will also find the average score by genre\n",
    "avglist = []\n",
    "for genre in unique_genres:\n",
    "    movies_of_genre = movies[movies[\"Genre\"].str.contains(genre,na=False)]\n",
    "    avg = movies_of_genre[\"IMDB Score\"].mean()\n",
    "    avglist.append(avg)\n",
    "    print(genre + \" {0:.2f}\".format(avg))\n",
    "\n",
    "plt.bar(y_pos,avglist,align='center',alpha=0.5)\n",
    "plt.xticks(y_pos,unique_genres,rotation='vertical')\n",
    "plt.ylabel(\"IMDB Score\")\n",
    "plt.title(\"IMDB Score by Genre\")\n",
    "plt.show()"
   ]
  },
  {
   "cell_type": "markdown",
   "metadata": {
    "_cell_guid": "b2b15e9a-ffa6-9c92-7cd2-ea94753546dd"
   },
   "source": [
    "\n",
    "# Image Analysis\n",
    "We will run these tests simply for the sample images provided"
   ]
  },
  {
   "cell_type": "markdown",
   "metadata": {
    "_cell_guid": "dab7c1d1-78ee-41de-1094-e2f83654cb15"
   },
   "source": [
    "#We display 1 movie of each genre\n",
    "fig = plt.figure(figsize=(20,80))\n",
    "i=1\n",
    "\n",
    "for genre in unique_genres:\n",
    "    ax = fig.add_subplot(10,3,i)\n",
    "    i+=1\n",
    "    movies_of_genre = movies[movies[\"Genre\"].str.contains(genre,na=False)]\n",
    "    \n",
    "    poster_ID = movies_of_genre[\"imdbId\"].values.tolist()\n",
    "\n",
    "    all_posters_subset = all_posters[all_posters[\"ID\"].isin(poster_ID)]\n",
    "    sample = all_posters_subset.values[0]\n",
    "    plt.imshow(plt.imread(sample[0]))\n",
    "    ID = sample[2]\n",
    "    title_of_movie = movies_of_genre[movies_of_genre[\"imdbId\"] == ID][\"Title\"]\n",
    "    \n",
    "    plt.title('Genre {}. Title: {}'.format(genre,title_of_movie.to_string()))"
   ]
  },
  {
   "cell_type": "markdown",
   "metadata": {
    "_cell_guid": "fcb839d7-f8cd-85b6-25d4-d3aecac87faa"
   },
   "source": [
    "from collections import defaultdict\n",
    "\n",
    "indices = []\n",
    "images = []\n",
    "for _, row in movies.iterrows():\n",
    "    try:\n",
    "        path = all_posters[all_posters[\"ID\"] == row[\"imdbId\"]]['path'].values[0]\n",
    "        img = misc.imread(path)\n",
    "        images.append(img)\n",
    "        indices.append(row[\"imdbId\"])\n",
    "    except:\n",
    "        print('image read failed for {}'.format(path))\n",
    "\n",
    "print(\"Images read in : {}\".format(len(images)))\n",
    "movie_im = pd.DataFrame(\n",
    "        {\n",
    "            'ID': indices,\n",
    "            'images': images\n",
    "        }\n",
    "    )"
   ]
  },
  {
   "cell_type": "markdown",
   "metadata": {
    "_cell_guid": "2347856c-c190-9eb4-c269-b368075b2316"
   },
   "source": [
    "dfs = []\n",
    "dfs = pd.DataFrame(\n",
    "        {\n",
    "            'rows': list(map(lambda i: i.shape[0], images)),\n",
    "            'columns': list(map(lambda i: i.shape[1], images)),\n",
    "            'channels': list(map(lambda i: i.shape[2], images))\n",
    "        }\n",
    "    )\n",
    "\n",
    "df_grouped = dfs.groupby(by=['channels', 'columns', 'rows']).size().reset_index().sort_values(['channels', 0], ascending=False)\n",
    "df_grouped"
   ]
  },
  {
   "cell_type": "markdown",
   "metadata": {
    "_cell_guid": "0791ddb4-fc46-e91a-b2eb-7859a35e9b01"
   },
   "source": [
    "All of our images seem to have the same dims- we can check this with a random example"
   ]
  },
  {
   "cell_type": "markdown",
   "metadata": {
    "_cell_guid": "f40c8286-3b8d-86de-927c-31bf52b03e59"
   },
   "source": [
    "import random\n",
    "print(images[random.randint(0,1018)].shape == (268,182,3))"
   ]
  },
  {
   "cell_type": "markdown",
   "metadata": {
    "_cell_guid": "9d2bae6c-2fb7-19dd-12f5-bc1dba09a9ff"
   },
   "source": [
    "#Next we will plot the average R,G,B, values for each genre\n",
    "red_avg = []\n",
    "blue_avg = []\n",
    "green_avg = []\n",
    "\n",
    "for genre in unique_genres:\n",
    "    red = np.array([],dtype=np.uint8,ndmin=1)\n",
    "    green = np.array([],dtype=np.uint8,ndmin=1)\n",
    "    blue = np.array([],dtype=np.uint8,ndmin=1)\n",
    "    movies_of_genre = movies[movies[\"Genre\"].str.contains(genre,na=False)]\n",
    "    poster_ID = movies_of_genre[\"imdbId\"].values.tolist()\n",
    "\n",
    "    movie_im_subset = movie_im[movie_im[\"ID\"].isin(poster_ID)]\n",
    "    for _, row in movie_im_subset.iterrows():\n",
    "        im = row['images']\n",
    "        red = np.append(red,np.ravel(im[:,:,0]))\n",
    "        green = np.append(red,np.ravel(im[:,:,1]))\n",
    "        blue = np.append(red,np.ravel(im[:,:,2]))\n",
    "    \n",
    "    \n",
    "    red_avg.append(np.average(red))\n",
    "    green_avg.append(np.average(green))\n",
    "    blue_avg.append(np.average(blue))\n",
    "\n",
    "fig, ax = plt.subplots(figsize=(20,20))\n",
    "index = np.arange(len(unique_genres))\n",
    "bar_width = 0.2\n",
    "opacity = 0.4\n",
    " \n",
    "rects1 = plt.bar(index, red_avg, bar_width,\n",
    "                 alpha=opacity,\n",
    "                 color='#ff8080',\n",
    "                 label='Red')\n",
    " \n",
    "rects2 = plt.bar(index + bar_width, green_avg, bar_width,\n",
    "                 alpha=opacity,\n",
    "                 color='#39ac73',\n",
    "                 label='Green')\n",
    "\n",
    "rects3 = plt.bar(index + 2*bar_width, blue_avg, bar_width,\n",
    "                 alpha=opacity,\n",
    "                 color='#4d94ff',\n",
    "                 label='Blue')\n",
    " \n",
    "plt.xlabel('Genre',fontsize=30)\n",
    "plt.ylabel('Average Intensity',fontsize=30)\n",
    "plt.title('Color Intensity Averages by Genre',fontsize=50)\n",
    "plt.xticks(index + bar_width, (unique_genres),rotation='vertical',fontsize=30)\n",
    "plt.yticks(fontsize=20)\n",
    " \n",
    "plt.tight_layout()\n",
    "plt.show()    \n",
    "    "
   ]
  },
  {
   "cell_type": "markdown",
   "metadata": {
    "_cell_guid": "325c0659-15ce-ed17-3412-35b0e8f81ec4"
   },
   "source": []
  }
 ],
 "metadata": {
  "_change_revision": 0,
  "_is_fork": false,
  "kernelspec": {
   "display_name": "Python 3 (ipykernel)",
   "language": "python",
   "name": "python3"
  },
  "language_info": {
   "codemirror_mode": {
    "name": "ipython",
    "version": 3
   },
   "file_extension": ".py",
   "mimetype": "text/x-python",
   "name": "python",
   "nbconvert_exporter": "python",
   "pygments_lexer": "ipython3",
   "version": "3.10.0"
  }
 },
 "nbformat": 4,
 "nbformat_minor": 4
}
